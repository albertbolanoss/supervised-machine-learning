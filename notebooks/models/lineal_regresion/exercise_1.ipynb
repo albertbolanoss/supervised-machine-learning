{
 "cells": [
  {
   "cell_type": "markdown",
   "id": "66777f0f",
   "metadata": {},
   "source": [
    "# Exercise 1\n",
    "\n",
    "1. Exercise 3.1\n",
    "\n",
    "A website has trained a linear regression model to predict the amount of minutes that a user will spend on the site. The formula they have obtained is\n",
    "\n",
    "t̂ = 0.8d + 0.5m + 0.5y + 0.2a + 1.5\n",
    "\n",
    "where t̂ is the predicted time in minutes, and d, m, y, and a are indicator variables (namely, they take only the values 0 or 1) defined as follows:\n",
    "\n",
    "d is a variable that indicates if the user is on desktop.\n",
    "m is a variable that indicates if the user is on mobile device.\n",
    "y is a variable that indicates if the user is young (under 21 years old).\n",
    "a is a variable that indicates if the user is an adult (21 years old or older).\n",
    "Example: If a user is 30 years old and on a desktop, then d = 1, m = 0, y = 0, and a = 1.\n",
    "\n",
    "If a 45-year-old user looks at the website from their phone, what is the expected time they will spend on the site?"
   ]
  },
  {
   "cell_type": "code",
   "execution_count": 6,
   "id": "0e5547a8",
   "metadata": {},
   "outputs": [
    {
     "name": "stdout",
     "output_type": "stream",
     "text": [
      "t̂ = 0.2*a + 0.8*d + 0.5*m + 0.5*y + 1.5\n",
      "t̂ evaluado: 2.20000000000000\n"
     ]
    }
   ],
   "source": [
    "from sympy import symbols\n",
    "\n",
    "d, m, y, a = symbols('d m y a')\n",
    "t_hat = 0.8 * d + 0.5 * m + 0.5 * y + 0.2 * a + 1.5\n",
    "\n",
    "# Definir la función t̂\n",
    "print(\"t̂ =\", t_hat)\n",
    "\n",
    "# Evaluar t̂ con d=0, m=1, y=0, a=1\n",
    "t_hat_val = t_hat.subs({d: 0, m: 1, y: 0, a: 1})\n",
    "print(\"t̂ evaluado:\", t_hat_val)"
   ]
  },
  {
   "cell_type": "markdown",
   "id": "78c58760",
   "metadata": {},
   "source": [
    "Exercise 3.2\n",
    "\n",
    "Imagine that we trained a linear regression model in a medical dataset. The model predicts the expected life span of a patient. To each of the features in our dataset, the model would assign a weight.\n",
    "\n",
    "a) For the following quantities, state if you believe the weight attached to this quantity is a positive number, a negative number, or zero. Note: if you believe that the weight is a very small number, whether positive or negative, you can say zero.\n",
    "\n",
    "Number of hours of exercise the patient gets per week\n",
    "Number of cigarettes the patient smokes per week\n",
    "Number of family members with heart problems\n",
    "Number of siblings of the patient\n",
    "Whether or not the patient has been hospitalized"
   ]
  },
  {
   "cell_type": "code",
   "execution_count": 8,
   "id": "cc3b0cd3",
   "metadata": {},
   "outputs": [],
   "source": [
    "# a_1. Number of hours of exercise the patient gets per week\n",
    "# a_2 Number of cigarettes the patient smokes per week\n",
    "# a_3 Number of family members with heart problems\n",
    "# a_4 Number of siblings of the patient\n",
    "# a_5 Whether or not the patient has been hospitalized\n",
    "\n",
    "a_1 = \"+\"\n",
    "a_2 = \"-\"\n",
    "a_3 = \"-\"\n",
    "a_4 = \"0\"\n",
    "a_5 = \"+\""
   ]
  },
  {
   "cell_type": "markdown",
   "id": "ad5550de",
   "metadata": {},
   "source": [
    "b) The model also has a bias. Do you think the bias is positive, negative, or zero?"
   ]
  },
  {
   "cell_type": "code",
   "execution_count": 7,
   "id": "6b9959e8",
   "metadata": {},
   "outputs": [],
   "source": [
    "b_1 = \"+\""
   ]
  },
  {
   "cell_type": "markdown",
   "id": "45d76250",
   "metadata": {},
   "source": [
    "Exercise 3.3\n",
    "\n",
    "\n",
    "Suppose we have trained the model where the prediction for the price of the house based on size is the following:\n",
    "\n",
    "P_hat = 2s + 50"
   ]
  },
  {
   "cell_type": "code",
   "execution_count": 11,
   "id": "e261d09b",
   "metadata": {},
   "outputs": [
    {
     "name": "stdout",
     "output_type": "stream",
     "text": [
      "MAE: 38.0\n",
      "RMSE: 39.370039370059054\n"
     ]
    }
   ],
   "source": [
    "import pandas as pd\n",
    "\n",
    "data = {\n",
    "    'Size': [100, 200, 200, 250, 325],\n",
    "    'Price': [200, 475, 400, 520, 735]\n",
    "}\n",
    "\n",
    "df = pd.DataFrame(data)\n",
    "df[\"p_hat\"] = df[\"Size\"] * 2 + 50\n",
    "\n",
    "mae = (df[\"Price\"] - df[\"p_hat\"]).abs().sum() / len(df) \n",
    "print(\"MAE:\", mae)\n",
    "\n",
    "root_mean_squared_error = (df[\"Price\"] - df[\"p_hat\"]) ** 2\n",
    "root_mean_squared_error = root_mean_squared_error.sum() / len(df)\n",
    "print(\"RMSE:\", root_mean_squared_error ** 0.5)"
   ]
  },
  {
   "cell_type": "markdown",
   "id": "8560061a",
   "metadata": {},
   "source": [
    "Exercise 3.4\n",
    "\n",
    "Our goal is to move the line with equation ŷ = 2x + 3 closer to the point (x, y) = (5, 15) using the tricks we’ve learned in this chapter. For the following two problems, use the learning rate η = 0.01.\n",
    "\n",
    "Apply the absolute trick to modify the line above to be closer to the point.\n",
    "Apply the square trick to modify the line above to be closer to the point."
   ]
  },
  {
   "cell_type": "markdown",
   "id": "aca71b85",
   "metadata": {},
   "source": [
    "## Exercise 2\n",
    "\n",
    "Exercise 4.1\n",
    "\n",
    "We have trained four models in the same dataset with different hyperparameters. In the following table we have recorded the training and testing errors for each of the models.\n",
    "\n",
    "| Model | Training error | Testing error |\n",
    "|-------|----------------|---------------|\n",
    "| 1     | 0.1            | 1.8           |\n",
    "| 2     | 0.4            | 1.2           |\n",
    "| 3     | 0.6            | 0.8           |\n",
    "| 4     | 1.9            | 2.3           |\n",
    "\n",
    "1. Which model would you select for this dataset?\n",
    " R./ 3\n",
    "1. Which model looks like it’s underfitting the data?\n",
    "R./ 4\n",
    "1. Which model looks like it’s overfitting the data?\n",
    "R./ 1 y 2\n",
    "\n",
    "\n",
    "4.2\n",
    "\n",
    "1. The lasso regression error of our model (using the L1 norm): ŷ = 1.9x2 – 4.9x\n",
    "1. The ridge regression error of our model (using the L2 norm): ŷ = 1.8x2 – 4.5x.\n"
   ]
  }
 ],
 "metadata": {
  "kernelspec": {
   "display_name": ".venv",
   "language": "python",
   "name": "python3"
  },
  "language_info": {
   "codemirror_mode": {
    "name": "ipython",
    "version": 3
   },
   "file_extension": ".py",
   "mimetype": "text/x-python",
   "name": "python",
   "nbconvert_exporter": "python",
   "pygments_lexer": "ipython3",
   "version": "3.13.0"
  }
 },
 "nbformat": 4,
 "nbformat_minor": 5
}
