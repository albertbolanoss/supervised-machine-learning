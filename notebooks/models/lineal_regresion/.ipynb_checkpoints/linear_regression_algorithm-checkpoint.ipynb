{
 "cells": [
  {
   "cell_type": "markdown",
   "id": "c915b627",
   "metadata": {},
   "source": [
    "# The linear regression algorithm\n",
    "\n",
    "1. Pick a random line.\n",
    "2. Repeat many times:\n",
    "\n",
    "    2.1 Pick a random data point.\n",
    "    \n",
    "    2.2 Move the line a little closer to that point.\n",
    "3. Return the line you’ve obtained.\n",
    "\n",
    "Case 1: If the point is above the line and to the right of the y-axis, we rotate the line counterclockwise and translate it upward.\n",
    "\n",
    "Case 2: If the point is above the line and to the left of the y-axis, we rotate the line clockwise and translate it upward.\n",
    "\n",
    "Case 3: If the point is below the line and to the right of the y-axis, we rotate the line clockwise and translate it downward.\n",
    "\n",
    "Case 4: If the point is below the line and to the left of the y-axis, we rotate the line counterclockwise and translate it downward."
   ]
  },
  {
   "cell_type": "code",
   "execution_count": 1,
   "id": "b1e604eb",
   "metadata": {},
   "outputs": [
    {
     "name": "stdout",
     "output_type": "stream",
     "text": [
      "Hello!\n"
     ]
    }
   ],
   "source": [
    "print(\"Hello!\")"
   ]
  }
 ],
 "metadata": {
  "kernelspec": {
   "display_name": ".venv",
   "language": "python",
   "name": "python3"
  },
  "language_info": {
   "codemirror_mode": {
    "name": "ipython",
    "version": 3
   },
   "file_extension": ".py",
   "mimetype": "text/x-python",
   "name": "python",
   "nbconvert_exporter": "python",
   "pygments_lexer": "ipython3",
   "version": "3.13.0"
  }
 },
 "nbformat": 4,
 "nbformat_minor": 5
}
