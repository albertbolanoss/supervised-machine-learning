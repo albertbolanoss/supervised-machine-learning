{
 "cells": [
  {
   "cell_type": "markdown",
   "id": "840b500f",
   "metadata": {},
   "source": [
    "# Feature scaling"
   ]
  },
  {
   "cell_type": "markdown",
   "id": "fa7d6f8f",
   "metadata": {},
   "source": [
    "### Normalization\n",
    "\n",
    "Get values between [0;1]\n",
    "\n",
    "X' = X - Xmin / Xmax - Xmin"
   ]
  },
  {
   "cell_type": "code",
   "execution_count": null,
   "id": "f07fe5ac",
   "metadata": {},
   "outputs": [
    {
     "data": {
      "text/html": [
       "<div>\n",
       "<style scoped>\n",
       "    .dataframe tbody tr th:only-of-type {\n",
       "        vertical-align: middle;\n",
       "    }\n",
       "\n",
       "    .dataframe tbody tr th {\n",
       "        vertical-align: top;\n",
       "    }\n",
       "\n",
       "    .dataframe thead th {\n",
       "        text-align: right;\n",
       "    }\n",
       "</style>\n",
       "<table border=\"1\" class=\"dataframe\">\n",
       "  <thead>\n",
       "    <tr style=\"text-align: right;\">\n",
       "      <th></th>\n",
       "      <th>Salary</th>\n",
       "      <th>Age</th>\n",
       "    </tr>\n",
       "  </thead>\n",
       "  <tbody>\n",
       "    <tr>\n",
       "      <th>0</th>\n",
       "      <td>1.000000</td>\n",
       "      <td>1.0</td>\n",
       "    </tr>\n",
       "    <tr>\n",
       "      <th>1</th>\n",
       "      <td>0.444444</td>\n",
       "      <td>0.8</td>\n",
       "    </tr>\n",
       "    <tr>\n",
       "      <th>2</th>\n",
       "      <td>0.000000</td>\n",
       "      <td>0.0</td>\n",
       "    </tr>\n",
       "  </tbody>\n",
       "</table>\n",
       "</div>"
      ],
      "text/plain": [
       "     Salary  Age\n",
       "0  1.000000  1.0\n",
       "1  0.444444  0.8\n",
       "2  0.000000  0.0"
      ]
     },
     "execution_count": 7,
     "metadata": {},
     "output_type": "execute_result"
    }
   ],
   "source": [
    "import pandas as pd\n",
    "\n",
    "data = {\n",
    "    'Salary': [70000, 60000, 52000],\n",
    "    'Age': [45, 44, 40]\n",
    "}\n",
    "\n",
    "df = pd.DataFrame(data)\n",
    "\n",
    "salary_min = df[\"Salary\"].min()\n",
    "salary_max = df[\"Salary\"].max()\n",
    "\n",
    "age_min = df[\"Age\"].min()\n",
    "age_max = df[\"Age\"].max()\n",
    "\n",
    "df[\"Salary\"] = (df[\"Salary\"] - salary_min) / (salary_max - salary_min)\n",
    "df[\"Age\"] = (df[\"Age\"] - age_min) / (age_max - age_min)\n",
    "df.head()\n",
    "\n",
    "print(\"The Salary and age  0 y 1 are more similars\")"
   ]
  },
  {
   "cell_type": "markdown",
   "id": "5df52f1f",
   "metadata": {},
   "source": [
    "### Standarization\n",
    "\n",
    "Get values between [-3;3]\n",
    "\n",
    "\n",
    "z = (x - μ) / σ\n",
    "\n",
    "z es el valor estandarizado,\n",
    "\n",
    "x es el valor original,\n",
    "\n",
    "μ (mu) es la media de la población o muestra,\n",
    "\n",
    "σ (sigma) es la desviación estándar.\n"
   ]
  }
 ],
 "metadata": {
  "kernelspec": {
   "display_name": "supervised-machine-learning-py3.13",
   "language": "python",
   "name": "python3"
  },
  "language_info": {
   "codemirror_mode": {
    "name": "ipython",
    "version": 3
   },
   "file_extension": ".py",
   "mimetype": "text/x-python",
   "name": "python",
   "nbconvert_exporter": "python",
   "pygments_lexer": "ipython3",
   "version": "3.13.0"
  }
 },
 "nbformat": 4,
 "nbformat_minor": 5
}
