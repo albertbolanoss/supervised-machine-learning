{
 "cells": [
  {
   "cell_type": "markdown",
   "id": "4b856ac7",
   "metadata": {},
   "source": [
    "# Exercises"
   ]
  },
  {
   "cell_type": "code",
   "execution_count": null,
   "id": "d348bb86",
   "metadata": {},
   "outputs": [
    {
     "data": {
      "text/plain": [
       "np.float64(0.6681877721681662)"
      ]
     },
     "execution_count": 3,
     "metadata": {},
     "output_type": "execute_result"
    }
   ],
   "source": [
    "import sys\n",
    "sys.path.append('../../../../src')\n",
    "import logist_regresion\n"
   ]
  },
  {
   "cell_type": "code",
   "execution_count": 4,
   "id": "0738f853",
   "metadata": {},
   "outputs": [
    {
     "data": {
      "text/plain": [
       "np.float64(0.6681877721681662)"
      ]
     },
     "execution_count": 4,
     "metadata": {},
     "output_type": "execute_result"
    }
   ],
   "source": [
    "# 1. Exercise 6.1\n",
    "\n",
    "# A dentist has trained a logistic classifier on a dataset of patients to predict if they have a decayed tooth. The model has determined that the probability that a patient has a decayed tooth is\n",
    "\n",
    "# σ(d + 0.5c – 0.8),\n",
    "\n",
    "# where\n",
    "\n",
    "# d is a variable that indicates whether the patient has had another decayed tooth in the past, and\n",
    "# c is a variable that indicates whether the patient eats candy.\n",
    "# For example, if a patient eats candy, then c = 1, and if they don’t, then c = 0. What is the probability that a patient that eats candy and was treated for a decayed tooth last year has a decayed tooth today?\n",
    "\n",
    "weights = [1, 0.5]\n",
    "bias = - 0.8\n",
    "features = [1, 1]\n",
    "\n",
    "logist_regresion.prediction(weights, bias, features)"
   ]
  }
 ],
 "metadata": {
  "kernelspec": {
   "display_name": ".venv",
   "language": "python",
   "name": "python3"
  },
  "language_info": {
   "codemirror_mode": {
    "name": "ipython",
    "version": 3
   },
   "file_extension": ".py",
   "mimetype": "text/x-python",
   "name": "python",
   "nbconvert_exporter": "python",
   "pygments_lexer": "ipython3",
   "version": "3.13.0"
  }
 },
 "nbformat": 4,
 "nbformat_minor": 5
}
