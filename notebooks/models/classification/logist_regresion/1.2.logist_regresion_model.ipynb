{
 "cells": [
  {
   "cell_type": "markdown",
   "id": "75f50114",
   "metadata": {},
   "source": [
    "# Logistic Regresion Model"
   ]
  },
  {
   "cell_type": "code",
   "execution_count": 1,
   "id": "4e69d2a8",
   "metadata": {},
   "outputs": [
    {
     "name": "stdout",
     "output_type": "stream",
     "text": [
      "Intercept: -3.159837995647939\n",
      "Coefficients:\n",
      "aack: 1.00465774460829\n",
      "beep: 0.9371126121518178\n"
     ]
    }
   ],
   "source": [
    "import numpy as np\n",
    "from sklearn.linear_model import LogisticRegression\n",
    "\n",
    "# Datos de entrada\n",
    "features = np.array([[1,0],[0,2],[1,1],[1,2],[1,3],[2,2],[2,3],[3,2]])\n",
    "labels = np.array([0,0,0,0,1,1,1,1])\n",
    "\n",
    "# Entrenar el modelo de regresión logística\n",
    "model = LogisticRegression()\n",
    "model.fit(features, labels)\n",
    "\n",
    "# Coeficientes del modelo\n",
    "intercept = model.intercept_[0]\n",
    "coefficients = model.coef_[0]\n",
    "\n",
    "print(\"Intercept:\", intercept)\n",
    "print(\"Coefficients:\")\n",
    "print(\"aack:\", coefficients[0])\n",
    "print(\"beep:\", coefficients[1])"
   ]
  }
 ],
 "metadata": {
  "kernelspec": {
   "display_name": ".venv",
   "language": "python",
   "name": "python3"
  },
  "language_info": {
   "codemirror_mode": {
    "name": "ipython",
    "version": 3
   },
   "file_extension": ".py",
   "mimetype": "text/x-python",
   "name": "python",
   "nbconvert_exporter": "python",
   "pygments_lexer": "ipython3",
   "version": "3.13.0"
  }
 },
 "nbformat": 4,
 "nbformat_minor": 5
}
