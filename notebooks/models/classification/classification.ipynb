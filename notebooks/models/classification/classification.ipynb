{
 "cells": [
  {
   "cell_type": "markdown",
   "id": "8047710a",
   "metadata": {},
   "source": [
    "# Classification"
   ]
  },
  {
   "cell_type": "markdown",
   "id": "1ccae31e",
   "metadata": {},
   "source": [
    "Whereas classification models aim to predict a state or a category. The following are popular examples of classifiers:\n",
    "\n",
    "- A recommendation model that predicts whether a user will watch a certain movie\n",
    "- An email model that predicts whether an email is spam or ham\n",
    "- A medical model that predicts whether a patient is sick or healthy\n",
    "- An image-recognition model that predicts whether an image contains an automobile, a bird, a cat, or a dog\n",
    "- A voice recognition model that predicts whether the user said a particular command"
   ]
  }
 ],
 "metadata": {
  "language_info": {
   "name": "python"
  }
 },
 "nbformat": 4,
 "nbformat_minor": 5
}
