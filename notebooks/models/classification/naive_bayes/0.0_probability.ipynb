{
 "cells": [
  {
   "cell_type": "markdown",
   "id": "ff6de10d",
   "metadata": {},
   "source": [
    "# Probability"
   ]
  },
  {
   "cell_type": "markdown",
   "id": "9646e532",
   "metadata": {},
   "source": [
    "## Join Probability\n",
    "\n",
    "You want to find the probability of flipping a heads and rolling a 6 on the coin and die, respectively.\n",
    "\n",
    "P(A and B) = P(A) * P(B)"
   ]
  },
  {
   "cell_type": "markdown",
   "id": "ac7dd56d",
   "metadata": {},
   "source": [
    "## Union Probability\n",
    "\n",
    "\n",
    "### Mutually exclusive events\n",
    "\n",
    "Let’s start with **mutually exclusive events**, which are events that cannot occur simultaneously. For example, if I roll one die I cannot simultaneously get a 4 and a 6.\n",
    "\n",
    "P(A or B) = P(A) + P(B)\n",
    "\n",
    "###  Nonmutually exclusive events\n",
    "\n",
    "Which are events that can occur simultaneously? Let’s go back to the coin flip and die roll example. What is the probability of getting a heads OR a 6?\n",
    "\n",
    "P(A or B) = P(A) + P(B) - P(A and B)\n"
   ]
  },
  {
   "cell_type": "markdown",
   "id": "6203f56f",
   "metadata": {},
   "source": [
    "## Conditional Probability and Bayes’ Theorem\n",
    "\n",
    "A probability topic that easily confuses people is the concept of conditional probability, which is the probability of an event A occurring given event B has occurred.\n",
    "\n",
    "\n",
    "P(Coffee) = .65             # Probability to be coffee drinker  => P(A)\n",
    "P(Cancer) = .005            # Probability to have cancer => P(B)\n",
    "P(Coffee | Cancer) = .85    # probability of to be coffee drinker given that have cancer => P(A | B)\n",
    "\n",
    "P(B | A) = P(A | B) * P(B)  / P(A)\n",
    "\n",
    "P(Cancer | Coffee) = 0.85 * 0.005 / 0.65  = 0.006538461538461539"
   ]
  }
 ],
 "metadata": {
  "language_info": {
   "name": "python"
  }
 },
 "nbformat": 4,
 "nbformat_minor": 5
}
