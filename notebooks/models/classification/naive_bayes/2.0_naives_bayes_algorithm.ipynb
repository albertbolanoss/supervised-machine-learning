{
 "cells": [
  {
   "cell_type": "markdown",
   "id": "f70a8a7f",
   "metadata": {},
   "source": [
    "## Naives Bayes algorithm"
   ]
  },
  {
   "cell_type": "code",
   "execution_count": 10,
   "id": "e5a8c170",
   "metadata": {},
   "outputs": [
    {
     "name": "stdout",
     "output_type": "stream",
     "text": [
      "Number of emails: 5728\n",
      "Number of spam emails: 1368\n",
      "\n",
      "Probability of spam: 0.2388268156424581\n",
      "P(lottery | spam): 0.9\n",
      "P(sale | spam): 0.48148148148148145\n"
     ]
    },
    {
     "data": {
      "text/plain": [
       "np.float64(0.9638144992048691)"
      ]
     },
     "execution_count": 10,
     "metadata": {},
     "output_type": "execute_result"
    }
   ],
   "source": [
    "import pandas as pd  \n",
    "import numpy as np\n",
    "\n",
    "emails = pd.read_csv('../../../../datasets/raw/emails.csv')\n",
    "\n",
    "def process_email(text):\n",
    "    text = text.lower()\n",
    "    return list(set(text.split()))\n",
    "\n",
    "# Each record contains an array of words\n",
    "emails['words'] = emails['text'].apply(process_email)\n",
    "\n",
    "# print(emails)\n",
    "\n",
    "num_emails = len(emails)\n",
    "num_spam = sum(emails['spam'])\n",
    "\n",
    "print(\"Number of emails:\", num_emails)\n",
    "print(\"Number of spam emails:\", num_spam)\n",
    "print()\n",
    "# Calculating the prior probability that an email is spam\n",
    "print(\"Probability of spam:\", num_spam/num_emails)\n",
    "\n",
    "\n",
    "def predict_bayes(word):\n",
    "    word = word.lower()\n",
    "    num_spam_with_word = model[word]['spam']\n",
    "    num_ham_with_word = model[word]['ham']\n",
    "    return 1.0*num_spam_with_word/(num_spam_with_word + num_ham_with_word)\n",
    "\n",
    "p_lottery_given_spam = predict_bayes('lottery')\n",
    "p_sale_given_spam = predict_bayes('sale')\n",
    "\n",
    "print(f\"P(lottery | spam): {p_lottery_given_spam}\")\n",
    "print(f\"P(sale | spam): {p_sale_given_spam}\")\n",
    "\n",
    "model = {}\n",
    "\n",
    "# Training process\n",
    "for index, email in emails.iterrows():\n",
    "    for word in email['words']:\n",
    "        if word not in model:\n",
    "            model[word] = {'spam': 1, 'ham': 1}\n",
    "        if word in model:\n",
    "            if email['spam']:\n",
    "                model[word]['spam'] += 1\n",
    "            else:\n",
    "                model[word]['ham'] += 1\n",
    "\n",
    "model['lottery']\n",
    "model['sale']\n",
    "\n",
    "\n",
    "def predict_naive_bayes(email):\n",
    "    total = len(emails)\n",
    "    num_spam = sum(emails['spam'])\n",
    "    num_ham = total - num_spam\n",
    "    email = email.lower()\n",
    "    words = set(email.split())\n",
    "    spams = [1.0]\n",
    "    hams = [1.0]\n",
    "    for word in words:\n",
    "        if word in model:\n",
    "            spams.append(model[word]['spam']/num_spam*total)\n",
    "            hams.append(model[word]['ham']/num_ham*total)\n",
    "    prod_spams = np.long(np.prod(spams)*num_spam)\n",
    "    prod_hams = np.long(np.prod(hams)*num_ham)\n",
    "    return prod_spams/(prod_spams + prod_hams)\n",
    "\n",
    "\n",
    "predict = predict_naive_bayes('lottery sale')\n",
    "predict"
   ]
  }
 ],
 "metadata": {
  "kernelspec": {
   "display_name": ".venv",
   "language": "python",
   "name": "python3"
  },
  "language_info": {
   "codemirror_mode": {
    "name": "ipython",
    "version": 3
   },
   "file_extension": ".py",
   "mimetype": "text/x-python",
   "name": "python",
   "nbconvert_exporter": "python",
   "pygments_lexer": "ipython3",
   "version": "3.13.0"
  }
 },
 "nbformat": 4,
 "nbformat_minor": 5
}
