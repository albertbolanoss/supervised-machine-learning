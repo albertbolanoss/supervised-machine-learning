{
 "cells": [
  {
   "cell_type": "markdown",
   "id": "13f1b89c",
   "metadata": {},
   "source": [
    "# Perceptron vs Logist Regresion"
   ]
  },
  {
   "cell_type": "markdown",
   "id": "0c98da08",
   "metadata": {},
   "source": [
    "# Diferencia entre Logistic Regression y Perceptron\n",
    "\n",
    "Aunque **Logistic Regression** y el **Perceptrón** son ambos modelos lineales para clasificación binaria, **no son lo mismo**. A continuación se resumen sus diferencias clave:\n",
    "\n",
    "| Característica                     | Logistic Regression                            | Perceptrón                                        |\n",
    "|-----------------------------------|------------------------------------------------|---------------------------------------------------|\n",
    "| **Tipo de modelo**                | Modelo estadístico (probabilístico)            | Algoritmo de aprendizaje supervisado              |\n",
    "| **Función de activación**         | Función sigmoide (curva suave)                 | Función escalón (step function)                   |\n",
    "| **Salida**                        | Probabilidad (entre 0 y 1)                     | Clase (0 o 1)                                     |\n",
    "| **Objetivo del entrenamiento**    | Minimizar log-loss (verosimilitud negativa)    | Minimizar número de errores de clasificación      |\n",
    "| **Algoritmo de optimización**     | Gradiente descendente o métodos numéricos      | Regla de actualización cuando hay error           |\n",
    "| **Convergencia garantizada**      | Sí, incluso si los datos no son separables     | Solo si los datos son linealmente separables      |\n",
    "| **Robustez**                      | Robusto a ruido y datos no separables          | No robusto a ruido ni a datos no separables       |\n",
    "| **Probabilidades**                | Sí (`predict_proba`)                           | No                                                |\n",
    "| **Regularización**                | Soporta (`L1`, `L2`)                           | No (en la versión clásica)                        |\n",
    "| **Uso moderno**                   | Muy común en ML y estadística                  | Principalmente educativo o como base de redes     |\n",
    "\n",
    "## ¿Cuál usar?\n",
    "- Usa **Logistic Regression** si necesitas un modelo estable, con salida probabilística y buen comportamiento general.\n",
    "- Usa **Perceptrón** para entender los fundamentos de aprendizaje automático o si estás en un contexto de datos perfectamente separables.\n"
   ]
  }
 ],
 "metadata": {
  "language_info": {
   "name": "python"
  }
 },
 "nbformat": 4,
 "nbformat_minor": 5
}
