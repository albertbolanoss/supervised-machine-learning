{
 "cells": [
  {
   "cell_type": "markdown",
   "id": "f62d6bcf",
   "metadata": {},
   "source": [
    "# How do you measure classification models"
   ]
  }
 ],
 "metadata": {
  "language_info": {
   "name": "python"
  }
 },
 "nbformat": 4,
 "nbformat_minor": 5
}
