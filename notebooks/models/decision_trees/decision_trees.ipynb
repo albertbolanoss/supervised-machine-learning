{
 "cells": [
  {
   "cell_type": "markdown",
   "id": "98ee4977",
   "metadata": {},
   "source": [
    "# Decision trees"
   ]
  },
  {
   "cell_type": "markdown",
   "id": "7a21b879",
   "metadata": {},
   "source": [
    "- Decision trees are powerful classification and regression models\n",
    "- Decision trees are trained with labeled data\n",
    "- App-recommendation \n",
    "\n",
    "\n",
    "1. Figure out which of the data is the most useful to decide which app to recommend.\n",
    "1. This feature splits the data into two smaller datasets.\n",
    "1. Repeat processes 1 and 2 for each of the two smaller datasets."
   ]
  }
 ],
 "metadata": {
  "language_info": {
   "name": "python"
  }
 },
 "nbformat": 4,
 "nbformat_minor": 5
}
